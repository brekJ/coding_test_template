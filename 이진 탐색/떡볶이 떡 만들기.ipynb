{
 "cells": [
  {
   "cell_type": "code",
   "execution_count": 14,
   "id": "de27847e-ab4b-4812-8018-edd8c37df1bf",
   "metadata": {},
   "outputs": [
    {
     "name": "stdin",
     "output_type": "stream",
     "text": [
      " 4 6\n",
      " 19 15 10 17\n"
     ]
    },
    {
     "name": "stdout",
     "output_type": "stream",
     "text": [
      "15\n"
     ]
    }
   ],
   "source": [
    "from bisect import bisect_left, bisect_right\n",
    "\n",
    "n, m = list(map(int, input().split()))\n",
    "data = list(map(int, input().split()))\n",
    "\n",
    "result = 0\n",
    "data.sort()\n",
    "start = 0\n",
    "end = data[n - 1]\n",
    "mid = data[n-1] // 2\n",
    "\n",
    "while start <= mid:\n",
    "    length = sum([x - mid for x in data[bisect_left(data, mid):]])\n",
    "    if length >= m:\n",
    "        result = mid\n",
    "        start = mid + 1\n",
    "        mid = (start + end) // 2\n",
    "    elif length < m:\n",
    "        end = mid - 1\n",
    "        mid = (start + end) // 2\n",
    "\n",
    "print(result)"
   ]
  }
 ],
 "metadata": {
  "kernelspec": {
   "display_name": "Python 3 (ipykernel)",
   "language": "python",
   "name": "python3"
  },
  "language_info": {
   "codemirror_mode": {
    "name": "ipython",
    "version": 3
   },
   "file_extension": ".py",
   "mimetype": "text/x-python",
   "name": "python",
   "nbconvert_exporter": "python",
   "pygments_lexer": "ipython3",
   "version": "3.11.5"
  }
 },
 "nbformat": 4,
 "nbformat_minor": 5
}
