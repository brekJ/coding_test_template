{
 "cells": [
  {
   "cell_type": "code",
   "execution_count": 2,
   "id": "5930d89c",
   "metadata": {},
   "outputs": [
    {
     "name": "stdout",
     "output_type": "stream",
     "text": [
      "6 4\n",
      "2 1\n",
      "3 2\n",
      "4 1\n",
      "5 6\n",
      "각 원소가 속한 집합: 1 1 1 1 5 5 \n",
      "부모 테이블: 1 1 1 1 5 5 "
     ]
    }
   ],
   "source": [
    "# 특정 원소가 속한 집합을 찾기: Find연산 : 변경\n",
    "def find_parent(parent, x):\n",
    "\t# 루트 노드를 찾을 때까지 재귀 호출\n",
    "\tif parent[x] != x:\n",
    "\t\tparent[x] = find_parent(parent, parent[x])\n",
    "\treturn parent[x]\n",
    "\n",
    "# 두 원소가 속한 집합을 합치기: Union연산\n",
    "def union_parent(parent, a, b):\n",
    "\ta = find_parent(parent, a)\n",
    "\tb = find_parent(parent, b)\n",
    "\tif a < b:\n",
    "\t\tparent[b] = a\n",
    "\telse:\n",
    "\t\tparent[a] = b\n",
    "\n",
    "# 노드의 개수와 간선(Union 연산)의 개수 입력 받기\n",
    "v, e = map(int, input().split())\n",
    "parent = [0] * (v + 1) # 부모 테이블 초기화 하기\n",
    "\n",
    "# 부모 테이블상에서, 부모를 자기 자신으로 초기화\n",
    "for i in range(1, v + 1):\n",
    "\tparent[i] = i\n",
    "\n",
    "# Union 연산을 각각 수행\n",
    "for i in range(e):\n",
    "\ta, b = map(int, input().split())\n",
    "\tunion_parent(parent, a, b)\n",
    "\n",
    "# 각 원소가 속한 집합 출력하기\n",
    "print('각 원소가 속한 집합: ', end='')\n",
    "for i in range(1, v + 1):\n",
    "\tprint(find_parent(parent, i), end=' ')\n",
    "\n",
    "print()\n",
    "\n",
    "# 부모 테이블 내용 출력하기\n",
    "print('부모 테이블: ', end='')\n",
    "for i in range(1, v + 1):\n",
    "\tprint(parent[i], end=' ')"
   ]
  }
 ],
 "metadata": {
  "kernelspec": {
   "display_name": "FastCampus",
   "language": "python",
   "name": "fastcampus"
  },
  "language_info": {
   "codemirror_mode": {
    "name": "ipython",
    "version": 3
   },
   "file_extension": ".py",
   "mimetype": "text/x-python",
   "name": "python",
   "nbconvert_exporter": "python",
   "pygments_lexer": "ipython3",
   "version": "3.9.17"
  }
 },
 "nbformat": 4,
 "nbformat_minor": 5
}
