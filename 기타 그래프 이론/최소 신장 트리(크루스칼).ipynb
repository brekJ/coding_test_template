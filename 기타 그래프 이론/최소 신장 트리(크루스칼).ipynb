{
 "cells": [
  {
   "cell_type": "code",
   "execution_count": 3,
   "id": "7fdbdfef",
   "metadata": {},
   "outputs": [
    {
     "name": "stdout",
     "output_type": "stream",
     "text": [
      "7 9\n",
      "1 2 29\n",
      "2 3 35\n",
      "3 4 7\n",
      "4 7 13\n",
      "6 7 25\n",
      "5 6 53\n",
      "1 5 75\n",
      "2 6 34\n",
      "4 6 23\n",
      "159\n"
     ]
    }
   ],
   "source": [
    "# 특정 원소가 속한 집합을 찾기\n",
    "def find_parent(parent, x):\n",
    "\t# 루트 노드를 찾을 때까지 재귀 호출\n",
    "\tif parent[x] != x:\n",
    "\t\tparent[x] = find_parent(parent, parent[x])\n",
    "\treturn parent[x]\n",
    "\n",
    "# 두 원소가 속한 집합을 합치기\n",
    "def union_parent(parent, a, b):\n",
    "\ta = find_parent(parent, a)\n",
    "\tb = find_parent(parent, b)\n",
    "\tif a < b:\n",
    "\t\tparent[b] = a\n",
    "\telse:\n",
    "\t\tparent[a] = b\n",
    "\n",
    "# 노드의 개수와 간선(Union 연산)의 개수 입력 받기\n",
    "v, e = map(int, input().split())\n",
    "parent = [0] * (v + 1) # 부모 테이블 초기화\n",
    "\n",
    "# 모든 간선을 담을 리스트와, 최종 비용을 담을 변수\n",
    "edges = []\n",
    "result = 0\n",
    "\n",
    "# 부모 테이블상에서, 부모를 자기 자신으로 초기화\n",
    "for i in range(1, v + 1):\n",
    "\tparent[i] = i\n",
    "\n",
    "# 모든 간선에 대한 정보를 입력 받기\n",
    "for _ in range(e):\n",
    "\ta, b, cost = map(int, input().split())\n",
    "\t# 비용순으로 정렬하기 위해서 튜플의 첫 번째 원소를 비용으로 설정\n",
    "\tedges.append((cost, a, b))\n",
    "\n",
    "# 간선을 비용순으로 설정\n",
    "edges.sort()\n",
    "\n",
    "# 간선을 하나씩 확인하며\n",
    "for edge in edges:\n",
    "\tcost, a, b = edge\n",
    "\t# 사이클이 발생하지 않는 경우에만 집합에 포함\n",
    "\tif find_parent(parent, a) != find_parent(parent, b):\n",
    "\t\tunion_parent(parent, a, b)\n",
    "\t\tresult += cost\n",
    "\n",
    "print(result)"
   ]
  },
  {
   "cell_type": "code",
   "execution_count": 4,
   "id": "e88bedb5",
   "metadata": {},
   "outputs": [
    {
     "data": {
      "text/plain": [
       "159"
      ]
     },
     "execution_count": 4,
     "metadata": {},
     "output_type": "execute_result"
    }
   ],
   "source": [
    "29+34+53+23+7+13"
   ]
  }
 ],
 "metadata": {
  "kernelspec": {
   "display_name": "Python 3 (ipykernel)",
   "language": "python",
   "name": "python3"
  },
  "language_info": {
   "codemirror_mode": {
    "name": "ipython",
    "version": 3
   },
   "file_extension": ".py",
   "mimetype": "text/x-python",
   "name": "python",
   "nbconvert_exporter": "python",
   "pygments_lexer": "ipython3",
   "version": "3.9.17"
  }
 },
 "nbformat": 4,
 "nbformat_minor": 5
}
