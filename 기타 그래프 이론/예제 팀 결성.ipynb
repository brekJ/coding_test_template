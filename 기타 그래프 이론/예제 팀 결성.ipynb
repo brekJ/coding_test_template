{
 "cells": [
  {
   "cell_type": "code",
   "execution_count": 1,
   "id": "15b58e12",
   "metadata": {},
   "outputs": [
    {
     "name": "stdout",
     "output_type": "stream",
     "text": [
      "7 8\n",
      "0 1 3\n",
      "1 1 7\n",
      "NO\n",
      "0 7 6\n",
      "1 7 1\n",
      "NO\n",
      "0 3 7\n",
      "0 4 2\n",
      "0 1 1\n",
      "1 1 1\n",
      "YES\n"
     ]
    }
   ],
   "source": [
    "n, m = map(int, input().split())\n",
    "\n",
    "# 특정 원소가 속한 집합을 찾기: Find연산 : 변경\n",
    "def find_parent(parent, x):\n",
    "\t# 루트 노드를 찾을 때까지 재귀 호출\n",
    "\tif parent[x] != x:\n",
    "\t\tparent[x] = find_parent(parent, parent[x])\n",
    "\treturn parent[x]\n",
    "\n",
    "# 두 원소가 속한 집합을 합치기: Union연산\n",
    "def union_parent(parent, a, b):\n",
    "\ta = find_parent(parent, a)\n",
    "\tb = find_parent(parent, b)\n",
    "\tif a < b:\n",
    "\t\tparent[b] = a\n",
    "\telse:\n",
    "\t\tparent[a] = b\n",
    "\n",
    "parent = [0] * (n + 1) # 부모 테이블 초기화 하기\n",
    "\n",
    "# 부모 테이블상에서, 부모를 자기 자신으로 초기화\n",
    "for i in range(1, n + 1):\n",
    "\tparent[i] = i\n",
    "\n",
    "for i in range(m):\n",
    "    i, a, b = map(int, input().split())\n",
    "    if i == 0:\n",
    "        union_parent(parent, a, b)\n",
    "    else:\n",
    "        if find_parent(parent, a) == find_parent(parent, b):\n",
    "            print('YES')\n",
    "        else:\n",
    "            print('NO')"
   ]
  }
 ],
 "metadata": {
  "kernelspec": {
   "display_name": "Python 3 (ipykernel)",
   "language": "python",
   "name": "python3"
  },
  "language_info": {
   "codemirror_mode": {
    "name": "ipython",
    "version": 3
   },
   "file_extension": ".py",
   "mimetype": "text/x-python",
   "name": "python",
   "nbconvert_exporter": "python",
   "pygments_lexer": "ipython3",
   "version": "3.9.17"
  }
 },
 "nbformat": 4,
 "nbformat_minor": 5
}
