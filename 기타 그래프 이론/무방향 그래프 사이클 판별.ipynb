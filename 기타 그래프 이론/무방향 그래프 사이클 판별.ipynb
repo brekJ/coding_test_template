{
 "cells": [
  {
   "cell_type": "code",
   "execution_count": 1,
   "id": "e1ada267",
   "metadata": {},
   "outputs": [
    {
     "name": "stdout",
     "output_type": "stream",
     "text": [
      "3 3\n",
      "1 2\n",
      "2 3\n",
      "3 1\n",
      "사이클이 발생했습니다.\n"
     ]
    }
   ],
   "source": [
    "# 특정 원소가 속한 집합을 찾기\n",
    "def find_parent(parent, x):\n",
    "\t# 루트 노드를 찾을 때까지 재귀 호출\n",
    "\tif parent[x] != x:\n",
    "\t\tparent[x] = find_parent(parent, parent[x])\n",
    "\treturn parent[x]\n",
    "\n",
    "# 두 원소가 속한 집합을 합치기\n",
    "def union_parent(parent, a, b):\n",
    "\ta = find_parent(parent, a)\n",
    "\tb = find_parent(parent, b)\n",
    "\tif a < b:\n",
    "\t\tparent[b] = a\n",
    "\telse:\n",
    "\t\tparent[a] = b\n",
    "\n",
    "# 노드의 개수와 간선(Union 연산)의 개수 입력 받기\n",
    "v, e = map(int, input().split())\n",
    "parent = [0] * (v + 1) # 부모 테이블 초기화\n",
    "\n",
    "# 부모 테이블상에서, 부모를 자기 자신으로 초기화\n",
    "for i in range(1, v + 1):\n",
    "\tparent[i] = i\n",
    "\n",
    "cycle = False # 사이클 발생 여부\n",
    "\n",
    "for i in range(e):\n",
    "\ta, b = map(int, input().split())\n",
    "\t# 사이클이 발생한 경우 종료\n",
    "\tif find_parent(parent, a) == find_parent(parent, b):\n",
    "\t\tcycle = True\n",
    "\t\tbreak\n",
    "\t# 사이클이 발생하지 않았다면(노드 a와 b가 같은 집합에 속해있지 않다면) 같은 집합에 속할 수 있도록 합집합(Union) 연산 수행\n",
    "\telse:\n",
    "\t\tunion_parent(parent, a, b)\n",
    "\n",
    "if cycle:\n",
    "\tprint('사이클이 발생했습니다.')\n",
    "else:\n",
    "\tprint('사이클이 발생하지 않았습니다.')"
   ]
  }
 ],
 "metadata": {
  "kernelspec": {
   "display_name": "Python 3 (ipykernel)",
   "language": "python",
   "name": "python3"
  },
  "language_info": {
   "codemirror_mode": {
    "name": "ipython",
    "version": 3
   },
   "file_extension": ".py",
   "mimetype": "text/x-python",
   "name": "python",
   "nbconvert_exporter": "python",
   "pygments_lexer": "ipython3",
   "version": "3.9.17"
  }
 },
 "nbformat": 4,
 "nbformat_minor": 5
}
