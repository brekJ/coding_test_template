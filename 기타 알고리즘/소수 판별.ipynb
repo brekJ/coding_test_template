{
 "cells": [
  {
   "cell_type": "code",
   "execution_count": 4,
   "id": "9f32c4c6",
   "metadata": {},
   "outputs": [
    {
     "name": "stdout",
     "output_type": "stream",
     "text": [
      "False\n",
      "True\n"
     ]
    }
   ],
   "source": [
    "import math\n",
    "\n",
    "# 소수 판별 함수(2이상의 자연수에 대하여)\n",
    "def is_prime_number(x):\n",
    "\t# 2부터 x의 제곱근까지의 모든 수를 확인하며\n",
    "\tfor i in range(2, int(math.sqrt(x)) + 1):\n",
    "\t\t# x가 해당 수로 나누어떨어진다면\n",
    "\t\tif x % i == 0:\n",
    "\t\t\treturn False # 소수가 아니다.\n",
    "\treturn True # 소수이다.\n",
    "\n",
    "print(is_prime_number(4))\n",
    "print(is_prime_number(7))\t\t"
   ]
  }
 ],
 "metadata": {
  "kernelspec": {
   "display_name": "Python 3 (ipykernel)",
   "language": "python",
   "name": "python3"
  },
  "language_info": {
   "codemirror_mode": {
    "name": "ipython",
    "version": 3
   },
   "file_extension": ".py",
   "mimetype": "text/x-python",
   "name": "python",
   "nbconvert_exporter": "python",
   "pygments_lexer": "ipython3",
   "version": "3.9.17"
  }
 },
 "nbformat": 4,
 "nbformat_minor": 5
}
