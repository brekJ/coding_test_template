{
 "cells": [
  {
   "cell_type": "code",
   "execution_count": 11,
   "id": "008fc5d3",
   "metadata": {},
   "outputs": [
    {
     "name": "stdout",
     "output_type": "stream",
     "text": [
      "2 3 5 7 11 13 17 19 23 29 31 37 41 43 47 53 59 61 67 71 73 79 83 89 97 101 103 107 109 113 127 131 137 139 149 151 157 163 167 173 179 181 191 193 197 199 211 223 227 229 233 239 241 251 257 263 269 271 277 281 283 293 307 311 313 317 331 337 347 349 353 359 367 373 379 383 389 397 401 409 419 421 431 433 439 443 449 457 461 463 467 479 487 491 499 503 509 521 523 541 547 557 563 569 571 577 587 593 599 601 607 613 617 619 631 641 643 647 653 659 661 673 677 683 691 701 709 719 727 733 739 743 751 757 761 769 773 787 797 809 811 821 823 827 829 839 853 857 859 863 877 881 883 887 907 911 919 929 937 941 947 953 967 971 977 983 991 997 "
     ]
    }
   ],
   "source": [
    "import math\n",
    "\n",
    "n = 1000 # 2 부터 1,000까지의 모든 수에 대하여 소수 판별\n",
    "# 처음엔 모든 수가 소수(True)인 것으로 초기화(0과 1은 제외)\n",
    "array = [True for i in range(n + 1)]\n",
    "\n",
    "# 에라토스테네스의 체 알고리즘 수행\n",
    "# 2부터 n의 제곱근까지의 모든 수를 확인하며\n",
    "for i in range(2, int(math.sqrt(n)) + 1):\n",
    "\tif array[i] == True: # i가 소수인 경우(남은 수인 경우)\n",
    "\t\t# i를 제외한 i의 모든 배수를 지우기\n",
    "\t\tj = 2\n",
    "\t\twhile i * j <= n:\n",
    "\t\t\tarray[i * j] = False\n",
    "\t\t\tj += 1\n",
    "\n",
    "# 모든 소수 출력\n",
    "for i in range(2, n + 1):\n",
    "\tif array[i]:\n",
    "\t\tprint(i, end=' ')"
   ]
  }
 ],
 "metadata": {
  "kernelspec": {
   "display_name": "Python 3 (ipykernel)",
   "language": "python",
   "name": "python3"
  },
  "language_info": {
   "codemirror_mode": {
    "name": "ipython",
    "version": 3
   },
   "file_extension": ".py",
   "mimetype": "text/x-python",
   "name": "python",
   "nbconvert_exporter": "python",
   "pygments_lexer": "ipython3",
   "version": "3.9.17"
  }
 },
 "nbformat": 4,
 "nbformat_minor": 5
}
