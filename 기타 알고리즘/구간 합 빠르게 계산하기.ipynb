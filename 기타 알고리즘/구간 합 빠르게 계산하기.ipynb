{
 "cells": [
  {
   "cell_type": "code",
   "execution_count": 1,
   "id": "e97bb729",
   "metadata": {},
   "outputs": [
    {
     "name": "stdout",
     "output_type": "stream",
     "text": [
      "70\n"
     ]
    }
   ],
   "source": [
    "# 데이터의 개수 N과 데이터 입력받기\n",
    "n = 5\n",
    "data = [10, 20, 30, 40, 50]\n",
    "\n",
    "# 접두사 합(Prefix Sum) 배열 계산\n",
    "sum_value = 0\n",
    "prefix_sum = [0]\n",
    "for i in data:\n",
    "\tsum_value += i\n",
    "\tprefix_sum.append(sum_value)\n",
    "\n",
    "# 구간 합 계산(세 번째 수부터 네 번째 수까지)\n",
    "left = 3\n",
    "right = 4\n",
    "print(prefix_sum[right] - prefix_sum[left - 1])"
   ]
  }
 ],
 "metadata": {
  "kernelspec": {
   "display_name": "Python 3 (ipykernel)",
   "language": "python",
   "name": "python3"
  },
  "language_info": {
   "codemirror_mode": {
    "name": "ipython",
    "version": 3
   },
   "file_extension": ".py",
   "mimetype": "text/x-python",
   "name": "python",
   "nbconvert_exporter": "python",
   "pygments_lexer": "ipython3",
   "version": "3.9.17"
  }
 },
 "nbformat": 4,
 "nbformat_minor": 5
}
