{
 "cells": [
  {
   "cell_type": "code",
   "execution_count": 7,
   "id": "841845d6",
   "metadata": {},
   "outputs": [
    {
     "name": "stdout",
     "output_type": "stream",
     "text": [
      "3 2 1\n",
      "1 2 4\n",
      "1 3 2\n",
      "2 4\n"
     ]
    }
   ],
   "source": [
    "import heapq\n",
    "import sys\n",
    "intput = sys.stdin.readline\n",
    "INF = int(1e9) # 무한을 의미하는 값으로 10억을 설정\n",
    "\n",
    "# 다익스트라 알고리즘 함수\n",
    "def dijkstra(start):\n",
    "\tq = []\n",
    "\t# 시작 노드로 가기 위한 최단 경로는 0으로 설정하여, 큐에 삽입\n",
    "\theapq.heappush(q, (0, start))\n",
    "\tdistance[start] = 0\n",
    "\twhile q: # 큐가 비어있지 않다면\n",
    "\t\t# 가장 최단 거리가 짧은 노드에 대한 정보 꺼내기\n",
    "\t\tdist, now = heapq.heappop(q)\n",
    "\t\t# 현재 노드가 이미 처리된 적이 있는 노드라면 무시\n",
    "\t\tif distance[now] < dist:\n",
    "\t\t\tcontinue\n",
    "\t\t# 현재 노드와 연결된 다른 인접한 노드들을 확인\n",
    "\t\tfor i in graph[now]:\n",
    "\t\t\tcost = dist + i[1]\n",
    "\t\t\t# 현재 노드를 거쳐서, 다른 노드로 이동하는 거리가 더 짧은 경우\n",
    "\t\t\tif cost < distance[i[0]]:\n",
    "\t\t\t\tdistance[i[0]] = cost\n",
    "\t\t\t\theapq.heappush(q, (cost, i[0]))\n",
    "\n",
    "# 노드의 개수, 간선의 개수를 입력받기\n",
    "n, m, start = map(int, input().split())\n",
    "# 각 노드에 연결되어 있는 노드에 대한 정보를 담는 리스트를 만들기\n",
    "graph = [[] for i in range(n + 1)]\n",
    "# 최단 거리 테이블을 모두 무한으로 초기화\n",
    "distance = [INF] * (n + 1)\n",
    "\n",
    "# 모든 간선 정보를 입력받기\n",
    "for _ in range(m):\n",
    "\tx, y, z = map(int, input().split())\n",
    "\t# x번 노드에서 y번 노드로 가는 비용이 z라는 의미\n",
    "\tgraph[x].append((y, z))\n",
    "\n",
    "# 다익스트라 알고리즘을 수행\n",
    "dijkstra(start)\n",
    "\n",
    "# 도달할 수 있는 노드의 개수\n",
    "count = 0\n",
    "# 도달할 수 있는 노드 중에서, 가장 멀리 있는 노드와의 최단 거리\n",
    "max_distance = 0\n",
    "\n",
    "for d in distance:\n",
    "\t# 도달할 수 있는 노드인 경우\n",
    "\tif d != 1e9:\n",
    "\t\tcount += 1\n",
    "\t\tmax_distance = max(max_distance, d)\n",
    "\n",
    "# 시작 노드는 제외해야 하므로 count - 1을 출력\n",
    "print(count - 1, max_distance)"
   ]
  }
 ],
 "metadata": {
  "kernelspec": {
   "display_name": "Python 3 (ipykernel)",
   "language": "python",
   "name": "python3"
  },
  "language_info": {
   "codemirror_mode": {
    "name": "ipython",
    "version": 3
   },
   "file_extension": ".py",
   "mimetype": "text/x-python",
   "name": "python",
   "nbconvert_exporter": "python",
   "pygments_lexer": "ipython3",
   "version": "3.9.17"
  }
 },
 "nbformat": 4,
 "nbformat_minor": 5
}
