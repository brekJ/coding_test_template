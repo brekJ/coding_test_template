{
 "cells": [
  {
   "cell_type": "code",
   "execution_count": 7,
   "id": "4a24c512",
   "metadata": {},
   "outputs": [
    {
     "name": "stdout",
     "output_type": "stream",
     "text": [
      "5 7\n",
      "1 2\n",
      "1 3\n",
      "1 4\n",
      "2 4\n",
      "3 4\n",
      "3 5\n",
      "4 5\n",
      "4 5\n",
      "3\n"
     ]
    }
   ],
   "source": [
    "INF = int(1e9) # 무한을 의미하는 값으로 10억을 설정\n",
    "\n",
    "# 노드의 개수 및 간선의 개수를 입력받기\n",
    "n, m = map(int, input().split())\n",
    "# 2차원 리스트(그래프 표현)를 만들고, 무한으로 초기화\n",
    "graph = [[INF] * (n + 1) for _ in range(n + 1)]\n",
    "\n",
    "# 자기 자신에서 자기 자신으로 가는 비용은 0으로 초기화\n",
    "for a in range(1, n + 1):\n",
    "\tfor b in range(1, n + 1):\n",
    "\t\tif a == b:\n",
    "\t\t\tgraph[a][b] = 0\n",
    "\n",
    "# 각 간선에 대한 정보를 입력 받아, 그 값으로 초기화\n",
    "for _ in range(m):\n",
    "\t# A->B, B->A로 가는 비용은 1라고 설정\n",
    "\ta, b= map(int, input().split())\n",
    "\tgraph[a][b] = 1\n",
    "\tgraph[b][a] = 1\n",
    "\n",
    "x, k = map(int, input().split())\n",
    "\n",
    "# 점화식에 따라 플로이드 워셜 알고리즘을 수행\n",
    "for k in range(1, n + 1):\n",
    "\tfor a in range(1, n + 1):\n",
    "\t\tfor b in range(1, n + 1):\n",
    "\t\t\tgraph[a][b] = min(graph[a][b], graph[a][k] + graph[k][b])\n",
    "\n",
    "if graph[1][k] + graph[k][x] >= INF:\n",
    "    print(-1)\n",
    "else:\n",
    "    print(graph[1][k] + graph[k][x])"
   ]
  }
 ],
 "metadata": {
  "kernelspec": {
   "display_name": "Python 3 (ipykernel)",
   "language": "python",
   "name": "python3"
  },
  "language_info": {
   "codemirror_mode": {
    "name": "ipython",
    "version": 3
   },
   "file_extension": ".py",
   "mimetype": "text/x-python",
   "name": "python",
   "nbconvert_exporter": "python",
   "pygments_lexer": "ipython3",
   "version": "3.9.17"
  }
 },
 "nbformat": 4,
 "nbformat_minor": 5
}
