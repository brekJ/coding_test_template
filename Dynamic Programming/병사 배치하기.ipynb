{
 "cells": [
  {
   "cell_type": "code",
   "execution_count": 1,
   "id": "04ad4440",
   "metadata": {},
   "outputs": [
    {
     "name": "stdout",
     "output_type": "stream",
     "text": [
      "7\n",
      "15 11 4 8 5 2 4\n",
      "2\n"
     ]
    }
   ],
   "source": [
    "n = int(input())\n",
    "array = list(map(int, input().split()))\n",
    "# 순서를 뒤집어 '최장 증가 부분 수열' 문제로 변환\n",
    "array.reverse()\n",
    "\n",
    "# 다이나믹 프로그래밍을 위한 1차원 DP 테이블 초기화\n",
    "dp = [1] * n\n",
    "\n",
    "# 가장 긴 증가하는 부분 수열(LIS) 알고리즘 수행\n",
    "for i in range(1, n):\n",
    "\tfor j in range(0, i):\n",
    "\t\tif array[j] < array[i]:\n",
    "\t\t\tdp[i] = max(dp[i], dp[j] + 1)\n",
    "\n",
    "# 열외해야 하는 병사의 최소 수를 출력\n",
    "print(n - max(dp))"
   ]
  }
 ],
 "metadata": {
  "kernelspec": {
   "display_name": "Python 3 (ipykernel)",
   "language": "python",
   "name": "python3"
  },
  "language_info": {
   "codemirror_mode": {
    "name": "ipython",
    "version": 3
   },
   "file_extension": ".py",
   "mimetype": "text/x-python",
   "name": "python",
   "nbconvert_exporter": "python",
   "pygments_lexer": "ipython3",
   "version": "3.9.17"
  }
 },
 "nbformat": 4,
 "nbformat_minor": 5
}
