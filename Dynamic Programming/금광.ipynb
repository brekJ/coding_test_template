{
 "cells": [
  {
   "cell_type": "code",
   "execution_count": null,
   "id": "f60f012e",
   "metadata": {},
   "outputs": [
    {
     "name": "stdout",
     "output_type": "stream",
     "text": [
      "2\n",
      "3 4\n",
      "1 3 3 2 2 1 4 1 0 6 4 7\n",
      "19\n",
      "4 4\n"
     ]
    }
   ],
   "source": [
    "# 테스트 케이스 입력\n",
    "for tc in range(int(input())):\n",
    "\t# 금광 정보 입력\n",
    "\tn, m = map(int, input().split())\n",
    "\tarray = list(map(int, input().split()))\n",
    "\t# 다이나믹 프로그래밍을 위한 2차원 DP 테이블 초기화\n",
    "\tdp = []\n",
    "\tindex = 0\n",
    "\tfor i in range(n):\n",
    "\t\tdp.append(array[index:index + m])\n",
    "\t\tindex += m\n",
    "\t# 다이나믹 프로그래밍 진행\n",
    "\tfor j in range(1, m):\n",
    "\t\tfor i in range(n):\n",
    "\t\t\t# 왼쪽 위에서 오는 경우\n",
    "\t\t\tif i == 0: left_up = 0\n",
    "\t\t\telse: left_up = dp[i - 1][j - 1]\n",
    "\t\t\t# 왼쪽 아래에서 오는 경우\n",
    "\t\t\tif i == n - 1: left_down = 0\n",
    "\t\t\telse: left_down = dp[i + 1][j - 1]\n",
    "\t\t\t# 왼쪽에서 오는 경우\n",
    "\t\t\tleft = dp[i][j - 1]\n",
    "\t\t\tdp[i][j] = dp[i][j] + max(left_up, left_down, left)\n",
    "\tresult = 0\n",
    "\tfor i in range(n):\n",
    "\t\tresult = max(result, dp[i][m - 1])\n",
    "\tprint(result)"
   ]
  },
  {
   "cell_type": "code",
   "execution_count": 17,
   "id": "7a2ec825",
   "metadata": {},
   "outputs": [
    {
     "data": {
      "text/plain": [
       "[[[1, 2, 0], [3, 1, 6], [3, 4, 4], [2, 1, 7]],\n",
       " [[1, 2, 5, 0], [3, 2, 0, 6], [1, 4, 2, 1], [5, 1, 3, 2]]]"
      ]
     },
     "execution_count": 17,
     "metadata": {},
     "output_type": "execute_result"
    }
   ],
   "source": []
  }
 ],
 "metadata": {
  "kernelspec": {
   "display_name": "FastCampus",
   "language": "python",
   "name": "fastcampus"
  },
  "language_info": {
   "codemirror_mode": {
    "name": "ipython",
    "version": 3
   },
   "file_extension": ".py",
   "mimetype": "text/x-python",
   "name": "python",
   "nbconvert_exporter": "python",
   "pygments_lexer": "ipython3",
   "version": "3.9.17"
  }
 },
 "nbformat": 4,
 "nbformat_minor": 5
}
