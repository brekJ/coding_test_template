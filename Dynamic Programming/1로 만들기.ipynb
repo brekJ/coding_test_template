{
 "cells": [
  {
   "cell_type": "code",
   "execution_count": 2,
   "id": "4f9b2c23",
   "metadata": {},
   "outputs": [
    {
     "name": "stdout",
     "output_type": "stream",
     "text": [
      "26\n",
      "3\n"
     ]
    }
   ],
   "source": [
    "# 정수 X를 입력 받기\n",
    "x = int(input())\n",
    "\n",
    "# 앞서 계산된 결과를 저장하기 위한 DP 테이블 초기화\n",
    "d = [0] * 30001\n",
    "\n",
    "# 다이나믹 프로그래밍 진행(보텀업)\n",
    "for i in range(2, x + 1):\n",
    "\t# 현재의 수에서 1을 빼는 경우\n",
    "\td[i] = d[i - 1] + 1\n",
    "\t# 현재의 수가 2로 나누어 떨어지는 경우\n",
    "\tif i % 2 == 0:\n",
    "\t\td[i] = min(d[i], d[i // 2] + 1)\n",
    "\t# 현재의 수가 3으로 나누어 떨어지는 경우\n",
    "\tif i % 3 == 0:\n",
    "\t\td[i] = min(d[i], d[i // 3] + 1)\n",
    "\t# 현재의 수가 5로 나누어 떨어지는 경우\n",
    "\tif i % 5 == 0:\n",
    "\t\td[i] = min(d[i], d[i // 5] + 1)\n",
    "\n",
    "print(d[x])"
   ]
  }
 ],
 "metadata": {
  "kernelspec": {
   "display_name": "Python 3 (ipykernel)",
   "language": "python",
   "name": "python3"
  },
  "language_info": {
   "codemirror_mode": {
    "name": "ipython",
    "version": 3
   },
   "file_extension": ".py",
   "mimetype": "text/x-python",
   "name": "python",
   "nbconvert_exporter": "python",
   "pygments_lexer": "ipython3",
   "version": "3.9.17"
  }
 },
 "nbformat": 4,
 "nbformat_minor": 5
}
