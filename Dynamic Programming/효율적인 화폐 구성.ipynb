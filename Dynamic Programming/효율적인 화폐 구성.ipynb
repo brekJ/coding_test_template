{
 "cells": [
  {
   "cell_type": "code",
   "execution_count": 18,
   "id": "9c6fa5dd",
   "metadata": {},
   "outputs": [
    {
     "name": "stdout",
     "output_type": "stream",
     "text": [
      "3 10000\n",
      "1\n",
      "2\n",
      "10000\n",
      "1\n"
     ]
    }
   ],
   "source": [
    "# 정수 N,M을 입력 받기\n",
    "n, m = map(int, input().split())\n",
    "# N개의 화폐 단위 정보를 입력받기\n",
    "array = []\n",
    "for i in range(n):\n",
    "    array.append(int(input()))\n",
    "\n",
    "MAX = m // array[0]\n",
    "# 한 번 계산된 결과를 저장하기 위한 DP 테이블 초기화\n",
    "d = [MAX] * (m + 1)\n",
    "\n",
    "# 다이나믹 프로그래밍 진행(보텀업)\n",
    "d[0] = 0\n",
    "for k in array:\n",
    "    for i in range(k, m + 1):\n",
    "        if d[i - k] != MAX: # (i - k)원을 만드는 방법이 존재하는 경우\n",
    "            d[i] = min(d[i], d[i - k] + 1)\n",
    "# 계산된 결과 출력\n",
    "if d[m] == MAX: # 최종적으로 M원을 만드는 방법이 없는 경우\n",
    "    print(-1)\n",
    "else:\n",
    "    print(d[m])"
   ]
  }
 ],
 "metadata": {
  "kernelspec": {
   "display_name": "Python 3 (ipykernel)",
   "language": "python",
   "name": "python3"
  },
  "language_info": {
   "codemirror_mode": {
    "name": "ipython",
    "version": 3
   },
   "file_extension": ".py",
   "mimetype": "text/x-python",
   "name": "python",
   "nbconvert_exporter": "python",
   "pygments_lexer": "ipython3",
   "version": "3.9.17"
  }
 },
 "nbformat": 4,
 "nbformat_minor": 5
}
