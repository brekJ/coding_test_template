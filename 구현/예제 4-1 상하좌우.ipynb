{
 "cells": [
  {
   "cell_type": "code",
   "execution_count": 22,
   "id": "d26d20ee",
   "metadata": {
    "scrolled": false
   },
   "outputs": [
    {
     "name": "stdout",
     "output_type": "stream",
     "text": [
      "[3, 4]\n"
     ]
    }
   ],
   "source": [
    "def calc(point, arrow, n):\n",
    "    if arrow == \"L\":\n",
    "        if point[1] == 1:\n",
    "            return point\n",
    "        else:\n",
    "            point[1] -= 1\n",
    "            return point\n",
    "    elif arrow == \"R\":\n",
    "        if point[1] == n:\n",
    "            return point\n",
    "        else:\n",
    "            point[1] += 1\n",
    "            return point\n",
    "    elif arrow == \"U\":\n",
    "        if point[0] == 1:\n",
    "            return point\n",
    "        else:\n",
    "            point[0] -= 1\n",
    "            return point\n",
    "    elif arrow == \"D\":\n",
    "        if point[0] == n:\n",
    "            return point\n",
    "        else:\n",
    "            point[0] += 1\n",
    "            return point\n",
    "    else:\n",
    "        return -1\n",
    "# n = int(input())\n",
    "# data = input().split()\n",
    "n = 5\n",
    "d = [\"R\", \"R\", \"R\", \"U\", \"D\", \"D\"]\n",
    "\n",
    "p = [1,1]\n",
    "\n",
    "for arrow in d:\n",
    "    p = calc(p, arrow, n)\n",
    "\n",
    "print(p)"
   ]
  },
  {
   "cell_type": "code",
   "execution_count": 24,
   "id": "63e06547",
   "metadata": {},
   "outputs": [
    {
     "name": "stdout",
     "output_type": "stream",
     "text": [
      "5\n",
      "R R R U D D\n",
      "3 4\n"
     ]
    }
   ],
   "source": [
    "# N을 입력받기\n",
    "n = int(input())\n",
    "x, y = 1, 1\n",
    "plans = input().split()\n",
    "\n",
    "# L, R, U, D에 따른 이동 방향\n",
    "dx = [0, 0, -1, 1]\n",
    "dy = [-1, 1, 0, 0]\n",
    "move_types = ['L', 'R', 'U', 'D']\n",
    "\n",
    "# 이동 계획을 하나씩 확인\n",
    "for plan in plans:\n",
    "    # 이동 후 좌표 구하기\n",
    "    for i in range(len(move_types)):\n",
    "        if plan == move_types[i]:\n",
    "            nx = x + dx[i]\n",
    "            ny = y + dy[i]\n",
    "    # 공간을 벗어나는 경우 무시\n",
    "    if nx < 1 or ny <1 or nx > n or ny > n:\n",
    "        continue\n",
    "    # 이동 수행\n",
    "    x, y = nx, ny\n",
    "\n",
    "print(x, y)"
   ]
  }
 ],
 "metadata": {
  "kernelspec": {
   "display_name": "FastCampus",
   "language": "python",
   "name": "fastcampus"
  },
  "language_info": {
   "codemirror_mode": {
    "name": "ipython",
    "version": 3
   },
   "file_extension": ".py",
   "mimetype": "text/x-python",
   "name": "python",
   "nbconvert_exporter": "python",
   "pygments_lexer": "ipython3",
   "version": "3.9.17"
  }
 },
 "nbformat": 4,
 "nbformat_minor": 5
}
