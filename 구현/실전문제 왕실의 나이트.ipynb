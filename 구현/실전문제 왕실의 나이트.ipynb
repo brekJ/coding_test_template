{
 "cells": [
  {
   "cell_type": "code",
   "execution_count": 14,
   "id": "d71ad73a",
   "metadata": {},
   "outputs": [
    {
     "name": "stdout",
     "output_type": "stream",
     "text": [
      "a1\n",
      "2\n"
     ]
    }
   ],
   "source": [
    "x, y = input()\n",
    "x = ord(x)-96\n",
    "y = int(y)\n",
    "\n",
    "first = [-2,-2, 2, 2, -1, -1, 1, 1]\n",
    "second = [-1, 1, -1, 1, -2 , 2, -2, 2]\n",
    "\n",
    "count = 0\n",
    "for i in range(8):\n",
    "    nx = x + first[i]\n",
    "    ny = y + second[i]\n",
    "    if nx < 1 or ny < 1 or nx > 8 or ny > 8:\n",
    "        continue\n",
    "    count += 1\n",
    "    \n",
    "print(count)"
   ]
  },
  {
   "cell_type": "code",
   "execution_count": 18,
   "id": "a07d231b",
   "metadata": {},
   "outputs": [
    {
     "name": "stdout",
     "output_type": "stream",
     "text": [
      "a1\n",
      "2\n"
     ]
    }
   ],
   "source": [
    "# 현재 나이트의 위치 입력받기\n",
    "input_data = input()\n",
    "row = int(input_data[1])\n",
    "column = int(ord(input_data[0])) - int(ord('a')) + 1\n",
    "\n",
    "# 나이트가 이동할 수 있는 8가지 방향 정의\n",
    "steps = [(-2, -1), (-1, -2), (1, -2), (2, -1), (2, 1), (1, 2), (-1, 2), (-2, 1)]\n",
    "\n",
    "# 8가지 방향에 대하여 각 위치로 이동이 가능한지 확인\n",
    "result = 0\n",
    "for step in steps:\n",
    "    # 이동하고자 하는 위치 확인\n",
    "    next_row = row + step[0]\n",
    "    next_column = column + step[1]\n",
    "    # 해당 위치로 이동이 가능하다면 카운트 증가\n",
    "    if next_row >=1 and next_row <= 8 and next_column >= 1 and next_column <= 8:\n",
    "        result += 1\n",
    "        \n",
    "print(result)"
   ]
  }
 ],
 "metadata": {
  "kernelspec": {
   "display_name": "Python 3 (ipykernel)",
   "language": "python",
   "name": "python3"
  },
  "language_info": {
   "codemirror_mode": {
    "name": "ipython",
    "version": 3
   },
   "file_extension": ".py",
   "mimetype": "text/x-python",
   "name": "python",
   "nbconvert_exporter": "python",
   "pygments_lexer": "ipython3",
   "version": "3.9.17"
  }
 },
 "nbformat": 4,
 "nbformat_minor": 5
}
