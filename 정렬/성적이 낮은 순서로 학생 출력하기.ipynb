{
 "cells": [
  {
   "cell_type": "code",
   "execution_count": 13,
   "id": "537dbcb9-21e3-4bf1-b6b0-45f991e51fc1",
   "metadata": {},
   "outputs": [
    {
     "name": "stdin",
     "output_type": "stream",
     "text": [
      " 4\n",
      " 홍길동 95\n"
     ]
    },
    {
     "name": "stdout",
     "output_type": "stream",
     "text": [
      "[['홍길동', 95]]\n"
     ]
    },
    {
     "name": "stdin",
     "output_type": "stream",
     "text": [
      " 정재훈 100\n"
     ]
    },
    {
     "name": "stdout",
     "output_type": "stream",
     "text": [
      "[['홍길동', 95], ['정재훈', 100]]\n"
     ]
    },
    {
     "name": "stdin",
     "output_type": "stream",
     "text": [
      " 이순신 77\n"
     ]
    },
    {
     "name": "stdout",
     "output_type": "stream",
     "text": [
      "[['홍길동', 95], ['정재훈', 100], ['이순신', 77]]\n"
     ]
    },
    {
     "name": "stdin",
     "output_type": "stream",
     "text": [
      " 김재현 56\n"
     ]
    },
    {
     "name": "stdout",
     "output_type": "stream",
     "text": [
      "[['홍길동', 95], ['정재훈', 100], ['이순신', 77], ['김재현', 56]]\n",
      "김재현 이순신 홍길동 정재훈 "
     ]
    }
   ],
   "source": [
    "n = int(input())\n",
    "\n",
    "array = []\n",
    "for i in range(n):\n",
    "    student = tuple(input().split())\n",
    "    array.append([int(x) if x.isdecimal() else x for x in student])\n",
    "\n",
    "array.sort(key=lambda array: array[1])\n",
    "for i in range(n):\n",
    "    print(array[i][0], end=' ')"
   ]
  }
 ],
 "metadata": {
  "kernelspec": {
   "display_name": "FastCampus",
   "language": "python",
   "name": "fastcampus"
  },
  "language_info": {
   "codemirror_mode": {
    "name": "ipython",
    "version": 3
   },
   "file_extension": ".py",
   "mimetype": "text/x-python",
   "name": "python",
   "nbconvert_exporter": "python",
   "pygments_lexer": "ipython3",
   "version": "3.9.17"
  }
 },
 "nbformat": 4,
 "nbformat_minor": 5
}
