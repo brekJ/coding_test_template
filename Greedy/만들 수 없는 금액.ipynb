{
 "cells": [
  {
   "cell_type": "code",
   "execution_count": 7,
   "id": "31249574-1952-4848-9343-d986f9b72ddd",
   "metadata": {},
   "outputs": [
    {
     "name": "stdin",
     "output_type": "stream",
     "text": [
      " 5\n",
      " 3 2 1 1 9\n"
     ]
    },
    {
     "name": "stdout",
     "output_type": "stream",
     "text": [
      "5.0\n",
      "10.0\n",
      "10.0\n",
      "5.0\n",
      "1.0\n"
     ]
    }
   ],
   "source": [
    "n = int(input())\n",
    "money = list(map(int, input().split()))\n",
    "\n",
    "number = 1\n",
    "for i in range(1, n + 1):\n",
    "    for j in range(i):\n",
    "        number = number * (n - j) / (j + 1)\n",
    "\n",
    "    print(number)\n",
    "    number = 1"
   ]
  }
 ],
 "metadata": {
  "kernelspec": {
   "display_name": "Python 3 (ipykernel)",
   "language": "python",
   "name": "python3"
  },
  "language_info": {
   "codemirror_mode": {
    "name": "ipython",
    "version": 3
   },
   "file_extension": ".py",
   "mimetype": "text/x-python",
   "name": "python",
   "nbconvert_exporter": "python",
   "pygments_lexer": "ipython3",
   "version": "3.11.5"
  }
 },
 "nbformat": 4,
 "nbformat_minor": 5
}
