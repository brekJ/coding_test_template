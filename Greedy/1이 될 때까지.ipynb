{
 "cells": [
  {
   "cell_type": "code",
   "execution_count": 3,
   "id": "92c790a9",
   "metadata": {},
   "outputs": [
    {
     "name": "stdout",
     "output_type": "stream",
     "text": [
      "25 5\n",
      "2\n"
     ]
    }
   ],
   "source": [
    "n, k = map(int, input().split())\n",
    "\n",
    "result = 0\n",
    "while True:\n",
    "    if(n==1 or k==0):\n",
    "        break\n",
    "    elif(n%k==0):\n",
    "        n //= k\n",
    "    else:\n",
    "        n -= 1\n",
    "    result +=1\n",
    "print(result)"
   ]
  },
  {
   "cell_type": "markdown",
   "id": "97c1bf7a",
   "metadata": {},
   "source": [
    "3-5.py 단순하게 푸는 답안 예시"
   ]
  },
  {
   "cell_type": "code",
   "execution_count": 4,
   "id": "a3785e79",
   "metadata": {},
   "outputs": [
    {
     "name": "stdout",
     "output_type": "stream",
     "text": [
      "2 2\n",
      "1\n"
     ]
    }
   ],
   "source": [
    "n, k = map(int, input().split())\n",
    "result = 0\n",
    "\n",
    "# N이 K이상이라면 K로 계속 나누기\n",
    "while n >= k:\n",
    "\t\t# N이 K로 나누어 떨어지지 않는다면 N에서 1씩 빼기\n",
    "\t\twhile n % k !=0:\n",
    "\t\t\t\tn -= 1\n",
    "\t\t\t\tresult +=1\n",
    "\t\t# K로 나누기\n",
    "\t\tn //= k\n",
    "\t\tresult += 1\n",
    "# 마지막으로 남은 수에 대하여 1씩 빼기\n",
    "while n > 1:\n",
    "\t\tn -= 1\n",
    "\t\tresult += 1\n",
    "\n",
    "print(result)"
   ]
  },
  {
   "cell_type": "markdown",
   "id": "ea52c4c0",
   "metadata": {},
   "source": [
    "3-6.py 효율적인 답안 예시"
   ]
  },
  {
   "cell_type": "code",
   "execution_count": null,
   "id": "393d8f10",
   "metadata": {},
   "outputs": [],
   "source": [
    "# N, K를 공백으로 구분하여 입력받기\n",
    "n, k = map(int, input().split())\n",
    "result = 0\n",
    "\n",
    "while True:\n",
    "\t\t# n을 k로 나눈 몫에 k를 곱해 n 이하에서 k로 나눌 수 있는 가장 큰 수를 찾는다.\n",
    "\t\ttarget = (n // k) * k\n",
    "\t\t# n과 target의 차이 == n이 target이 되기위해 1을 빼야하는 회수\n",
    "\t\tresult += (n - target)\n",
    "\t\t# n과 target의 차이를 result에 더했으므로 n을 target과 같게 맞춘다\n",
    "\t\tn = target\n",
    "\t\t# N이 K보다 작을 때(더 이상 나눌 수 없을 때) 반복문 탈출\n",
    "\t\tif n < k:\n",
    "\t\t\t\tbreak\n",
    "\t\t# K로 나누기\n",
    "\t\tresult += 1\n",
    "\t\tn //= k\n",
    "\n",
    "# 마지막으로 남은 수에 대하여 1씩 빼기\n",
    "result += (n - 1) \n",
    "print(result)"
   ]
  }
 ],
 "metadata": {
  "kernelspec": {
   "display_name": "FastCampus",
   "language": "python",
   "name": "fastcampus"
  },
  "language_info": {
   "codemirror_mode": {
    "name": "ipython",
    "version": 3
   },
   "file_extension": ".py",
   "mimetype": "text/x-python",
   "name": "python",
   "nbconvert_exporter": "python",
   "pygments_lexer": "ipython3",
   "version": "3.9.17"
  }
 },
 "nbformat": 4,
 "nbformat_minor": 5
}
