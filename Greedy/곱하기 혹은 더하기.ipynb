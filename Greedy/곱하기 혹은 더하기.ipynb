{
 "cells": [
  {
   "cell_type": "code",
   "execution_count": 11,
   "id": "6d81281d-1d17-4711-8f53-ca73bf8bd601",
   "metadata": {},
   "outputs": [
    {
     "name": "stdin",
     "output_type": "stream",
     "text": [
      " 02984\n"
     ]
    },
    {
     "name": "stdout",
     "output_type": "stream",
     "text": [
      "576\n"
     ]
    }
   ],
   "source": [
    "s = list(map(int, input()))\n",
    "s.sort()\n",
    "first = s.pop(0)\n",
    "second = s.pop(0)\n",
    "if first <=1 or second <= 1:\n",
    "    result = first + second\n",
    "else:\n",
    "    result = first * second\n",
    "\n",
    "for number in s:\n",
    "    if number <= 1:\n",
    "        result += number\n",
    "    else:\n",
    "        result *= number\n",
    "\n",
    "print(result)"
   ]
  },
  {
   "cell_type": "code",
   "execution_count": 12,
   "id": "c1026ab2-bd2e-4f84-bd9f-e2ccd1753b21",
   "metadata": {},
   "outputs": [
    {
     "name": "stdin",
     "output_type": "stream",
     "text": [
      " 02984\n"
     ]
    },
    {
     "name": "stdout",
     "output_type": "stream",
     "text": [
      "576\n"
     ]
    }
   ],
   "source": [
    "s = list(map(int, input()))\n",
    "\n",
    "result = s.pop(0)\n",
    "\n",
    "for number in s:\n",
    "    if number <= 1 or result <= 1:\n",
    "        result += number\n",
    "    else:\n",
    "        result *= number\n",
    "\n",
    "print(result)"
   ]
  }
 ],
 "metadata": {
  "kernelspec": {
   "display_name": "Python 3 (ipykernel)",
   "language": "python",
   "name": "python3"
  },
  "language_info": {
   "codemirror_mode": {
    "name": "ipython",
    "version": 3
   },
   "file_extension": ".py",
   "mimetype": "text/x-python",
   "name": "python",
   "nbconvert_exporter": "python",
   "pygments_lexer": "ipython3",
   "version": "3.11.5"
  }
 },
 "nbformat": 4,
 "nbformat_minor": 5
}
