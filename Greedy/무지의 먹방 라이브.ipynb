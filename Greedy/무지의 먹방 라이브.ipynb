{
 "cells": [
  {
   "cell_type": "code",
   "execution_count": 17,
   "id": "4c6ac40a-00b3-4285-8fae-d6a2776b1695",
   "metadata": {},
   "outputs": [
    {
     "ename": "IndexError",
     "evalue": "index out of range",
     "output_type": "error",
     "traceback": [
      "\u001b[1;31m---------------------------------------------------------------------------\u001b[0m",
      "\u001b[1;31mIndexError\u001b[0m                                Traceback (most recent call last)",
      "Cell \u001b[1;32mIn[17], line 30\u001b[0m\n\u001b[0;32m     28\u001b[0m food_times \u001b[38;5;241m=\u001b[39m [\u001b[38;5;241m3\u001b[39m, \u001b[38;5;241m1\u001b[39m, \u001b[38;5;241m2\u001b[39m]\n\u001b[0;32m     29\u001b[0m k \u001b[38;5;241m=\u001b[39m \u001b[38;5;241m5\u001b[39m\n\u001b[1;32m---> 30\u001b[0m \u001b[38;5;28mprint\u001b[39m(\u001b[43msolution\u001b[49m\u001b[43m(\u001b[49m\u001b[43mfood_times\u001b[49m\u001b[43m,\u001b[49m\u001b[43m \u001b[49m\u001b[43mk\u001b[49m\u001b[43m)\u001b[49m)\n",
      "Cell \u001b[1;32mIn[17], line 13\u001b[0m, in \u001b[0;36msolution\u001b[1;34m(food_times, k)\u001b[0m\n\u001b[0;32m     11\u001b[0m previous \u001b[38;5;241m=\u001b[39m \u001b[38;5;241m0\u001b[39m\n\u001b[0;32m     12\u001b[0m \u001b[38;5;28;01mwhile\u001b[39;00m \u001b[38;5;28;01mTrue\u001b[39;00m:\n\u001b[1;32m---> 13\u001b[0m     food \u001b[38;5;241m=\u001b[39m \u001b[43mheapq\u001b[49m\u001b[38;5;241;43m.\u001b[39;49m\u001b[43mheappop\u001b[49m\u001b[43m(\u001b[49m\u001b[43mq\u001b[49m\u001b[43m)\u001b[49m\n\u001b[0;32m     14\u001b[0m     now \u001b[38;5;241m=\u001b[39m food[\u001b[38;5;241m0\u001b[39m] \u001b[38;5;241m*\u001b[39m length\n\u001b[0;32m     15\u001b[0m     \u001b[38;5;28;01mif\u001b[39;00m k \u001b[38;5;241m-\u001b[39m (now \u001b[38;5;241m-\u001b[39m previous) \u001b[38;5;241m<\u001b[39m \u001b[38;5;241m0\u001b[39m:\n",
      "\u001b[1;31mIndexError\u001b[0m: index out of range"
     ]
    }
   ],
   "source": [
    "import heapq\n",
    "\n",
    "def solution(food_times, k):\n",
    "    if k >= sum(food_times):\n",
    "        return -1\n",
    "    answer = 0\n",
    "    q = []\n",
    "    length = len(food_times)\n",
    "    for i in range(len(food_times)):\n",
    "        heapq.heappush(q, (food_times[i], i + 1))\n",
    "    previous = 0\n",
    "    while True:\n",
    "        food = heapq.heappop(q)\n",
    "        now = food[0] * length\n",
    "        if k - (now - previous) < 0:\n",
    "            heapq.heappush(q, food)\n",
    "            length += 1\n",
    "            break\n",
    "        elif k - (now - previous) == 0:\n",
    "            answer = heapq.heappop(q)[1]\n",
    "            break\n",
    "        else:\n",
    "            previous += now\n",
    "            k -= now\n",
    "            length -= 1\n",
    "    answer = q[k % length][1]\n",
    "    return answer\n",
    "food_times = [3, 1, 2]\n",
    "k = 5\n",
    "print(solution(food_times, k))"
   ]
  }
 ],
 "metadata": {
  "kernelspec": {
   "display_name": "Python 3 (ipykernel)",
   "language": "python",
   "name": "python3"
  },
  "language_info": {
   "codemirror_mode": {
    "name": "ipython",
    "version": 3
   },
   "file_extension": ".py",
   "mimetype": "text/x-python",
   "name": "python",
   "nbconvert_exporter": "python",
   "pygments_lexer": "ipython3",
   "version": "3.11.5"
  }
 },
 "nbformat": 4,
 "nbformat_minor": 5
}
