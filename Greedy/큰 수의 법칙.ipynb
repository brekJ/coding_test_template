{
 "cells": [
  {
   "cell_type": "code",
   "execution_count": 22,
   "id": "1be51f03",
   "metadata": {},
   "outputs": [
    {
     "name": "stdout",
     "output_type": "stream",
     "text": [
      "46\n"
     ]
    }
   ],
   "source": [
    "# n, m, k = map(int, input().split())\n",
    "# data = list(map(int, input().split()))\n",
    "n, m, k = [5, 8, 3]\n",
    "data = [2, 4, 5, 4, 6]\n",
    "\n",
    "data.sort()\n",
    "sum = 0\n",
    "\n",
    "for i in range(1,m+1):\n",
    "    if(i%k == 1 and i != 1):\n",
    "        sum += data[-2]\n",
    "        continue\n",
    "    sum += data[-1]\n",
    "print(sum)"
   ]
  },
  {
   "cell_type": "code",
   "execution_count": null,
   "id": "d20b11b3",
   "metadata": {},
   "outputs": [],
   "source": []
  }
 ],
 "metadata": {
  "kernelspec": {
   "display_name": "Python 3 (ipykernel)",
   "language": "python",
   "name": "python3"
  },
  "language_info": {
   "codemirror_mode": {
    "name": "ipython",
    "version": 3
   },
   "file_extension": ".py",
   "mimetype": "text/x-python",
   "name": "python",
   "nbconvert_exporter": "python",
   "pygments_lexer": "ipython3",
   "version": "3.9.17"
  }
 },
 "nbformat": 4,
 "nbformat_minor": 5
}
