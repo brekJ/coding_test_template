{
 "cells": [
  {
   "cell_type": "code",
   "execution_count": 5,
   "id": "3ab61eff-d365-4ca3-8bf3-c488e4d2eb58",
   "metadata": {},
   "outputs": [
    {
     "name": "stdin",
     "output_type": "stream",
     "text": [
      " 00110011\n"
     ]
    },
    {
     "name": "stdout",
     "output_type": "stream",
     "text": [
      "2\n"
     ]
    }
   ],
   "source": [
    "s = list(map(int, input()))\n",
    "# 00110011 4 - 2\n",
    "# 001100 3 - 2\n",
    "\n",
    "count = 1\n",
    "number = s[0]\n",
    "for n in s[1:]:\n",
    "    if number != n:\n",
    "        count += 1\n",
    "    number = n\n",
    "print(count - 2)"
   ]
  },
  {
   "cell_type": "code",
   "execution_count": 1,
   "id": "15271a15-180a-4e42-8972-86c7081b6991",
   "metadata": {},
   "outputs": [
    {
     "data": {
      "text/plain": [
       "[1, 21, 3, 4, 5]"
      ]
     },
     "execution_count": 1,
     "metadata": {},
     "output_type": "execute_result"
    }
   ],
   "source": [
    "array = [1, 21, 3, 4, 5, 5]\n",
    "array.remove(5)\n",
    "array"
   ]
  }
 ],
 "metadata": {
  "kernelspec": {
   "display_name": "Python 3 (ipykernel)",
   "language": "python",
   "name": "python3"
  },
  "language_info": {
   "codemirror_mode": {
    "name": "ipython",
    "version": 3
   },
   "file_extension": ".py",
   "mimetype": "text/x-python",
   "name": "python",
   "nbconvert_exporter": "python",
   "pygments_lexer": "ipython3",
   "version": "3.11.5"
  }
 },
 "nbformat": 4,
 "nbformat_minor": 5
}
